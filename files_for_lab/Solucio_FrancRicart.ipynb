{
 "cells": [
  {
   "cell_type": "markdown",
   "id": "6d060c2c",
   "metadata": {},
   "source": [
    "# Lab | Imbalanced data\n"
   ]
  },
  {
   "cell_type": "markdown",
   "id": "1a63ad76",
   "metadata": {},
   "source": [
    "## Instructions\n",
    "\n",
    "1. Load the dataset and explore the variables.\n",
    "2. We will try to predict variable Churn using a logistic regression on variables tenure, SeniorCitizen,MonthlyCharges.\n",
    "3. Extract the target variable.\n",
    "4. Extract the independent variables and scale them.\n",
    "5. Build the logistic regression model.\n",
    "6. Evaluate the model.\n",
    "7. Even a simple model will give us more than 70% accuracy. Why?\n",
    "8. Synthetic Minority Oversampling TEchnique (SMOTE) is an over sampling technique based on nearest neighbors that adds new points between existing points. Apply imblearn.over_sampling.SMOTE to the dataset. Build and evaluate the logistic regression model. Is it there any improvement?"
   ]
  },
  {
   "cell_type": "code",
   "execution_count": 2,
   "id": "e76d61f9",
   "metadata": {},
   "outputs": [],
   "source": [
    "import pandas as pd\n",
    "import numpy as np\n",
    "\n",
    "import matplotlib.pyplot as plt\n",
    "%matplotlib inline\n",
    "import seaborn as sns\n",
    "\n",
    "from sklearn.model_selection import train_test_split\n",
    "from sklearn.linear_model import LogisticRegression\n",
    "from sklearn.preprocessing import StandardScaler\n",
    "\n",
    "from imblearn.over_sampling import SMOTE\n",
    "\n",
    "from sklearn.metrics import confusion_matrix, accuracy_score, precision_score, recall_score, ConfusionMatrixDisplay\n",
    "from sklearn.metrics import classification_report, f1_score, cohen_kappa_score"
   ]
  },
  {
   "cell_type": "markdown",
   "id": "0f7e7d18",
   "metadata": {},
   "source": [
    "## 1. Load the dataset and explore the variables.\n"
   ]
  },
  {
   "cell_type": "code",
   "execution_count": 4,
   "id": "d7154662",
   "metadata": {},
   "outputs": [
    {
     "data": {
      "text/html": [
       "<div>\n",
       "<style scoped>\n",
       "    .dataframe tbody tr th:only-of-type {\n",
       "        vertical-align: middle;\n",
       "    }\n",
       "\n",
       "    .dataframe tbody tr th {\n",
       "        vertical-align: top;\n",
       "    }\n",
       "\n",
       "    .dataframe thead th {\n",
       "        text-align: right;\n",
       "    }\n",
       "</style>\n",
       "<table border=\"1\" class=\"dataframe\">\n",
       "  <thead>\n",
       "    <tr style=\"text-align: right;\">\n",
       "      <th></th>\n",
       "      <th>customerID</th>\n",
       "      <th>gender</th>\n",
       "      <th>SeniorCitizen</th>\n",
       "      <th>Partner</th>\n",
       "      <th>Dependents</th>\n",
       "      <th>tenure</th>\n",
       "      <th>PhoneService</th>\n",
       "      <th>MultipleLines</th>\n",
       "      <th>InternetService</th>\n",
       "      <th>OnlineSecurity</th>\n",
       "      <th>...</th>\n",
       "      <th>DeviceProtection</th>\n",
       "      <th>TechSupport</th>\n",
       "      <th>StreamingTV</th>\n",
       "      <th>StreamingMovies</th>\n",
       "      <th>Contract</th>\n",
       "      <th>PaperlessBilling</th>\n",
       "      <th>PaymentMethod</th>\n",
       "      <th>MonthlyCharges</th>\n",
       "      <th>TotalCharges</th>\n",
       "      <th>Churn</th>\n",
       "    </tr>\n",
       "  </thead>\n",
       "  <tbody>\n",
       "    <tr>\n",
       "      <th>0</th>\n",
       "      <td>7590-VHVEG</td>\n",
       "      <td>Female</td>\n",
       "      <td>0</td>\n",
       "      <td>Yes</td>\n",
       "      <td>No</td>\n",
       "      <td>1</td>\n",
       "      <td>No</td>\n",
       "      <td>No phone service</td>\n",
       "      <td>DSL</td>\n",
       "      <td>No</td>\n",
       "      <td>...</td>\n",
       "      <td>No</td>\n",
       "      <td>No</td>\n",
       "      <td>No</td>\n",
       "      <td>No</td>\n",
       "      <td>Month-to-month</td>\n",
       "      <td>Yes</td>\n",
       "      <td>Electronic check</td>\n",
       "      <td>29.85</td>\n",
       "      <td>29.85</td>\n",
       "      <td>No</td>\n",
       "    </tr>\n",
       "    <tr>\n",
       "      <th>1</th>\n",
       "      <td>5575-GNVDE</td>\n",
       "      <td>Male</td>\n",
       "      <td>0</td>\n",
       "      <td>No</td>\n",
       "      <td>No</td>\n",
       "      <td>34</td>\n",
       "      <td>Yes</td>\n",
       "      <td>No</td>\n",
       "      <td>DSL</td>\n",
       "      <td>Yes</td>\n",
       "      <td>...</td>\n",
       "      <td>Yes</td>\n",
       "      <td>No</td>\n",
       "      <td>No</td>\n",
       "      <td>No</td>\n",
       "      <td>One year</td>\n",
       "      <td>No</td>\n",
       "      <td>Mailed check</td>\n",
       "      <td>56.95</td>\n",
       "      <td>1889.5</td>\n",
       "      <td>No</td>\n",
       "    </tr>\n",
       "    <tr>\n",
       "      <th>2</th>\n",
       "      <td>3668-QPYBK</td>\n",
       "      <td>Male</td>\n",
       "      <td>0</td>\n",
       "      <td>No</td>\n",
       "      <td>No</td>\n",
       "      <td>2</td>\n",
       "      <td>Yes</td>\n",
       "      <td>No</td>\n",
       "      <td>DSL</td>\n",
       "      <td>Yes</td>\n",
       "      <td>...</td>\n",
       "      <td>No</td>\n",
       "      <td>No</td>\n",
       "      <td>No</td>\n",
       "      <td>No</td>\n",
       "      <td>Month-to-month</td>\n",
       "      <td>Yes</td>\n",
       "      <td>Mailed check</td>\n",
       "      <td>53.85</td>\n",
       "      <td>108.15</td>\n",
       "      <td>Yes</td>\n",
       "    </tr>\n",
       "    <tr>\n",
       "      <th>3</th>\n",
       "      <td>7795-CFOCW</td>\n",
       "      <td>Male</td>\n",
       "      <td>0</td>\n",
       "      <td>No</td>\n",
       "      <td>No</td>\n",
       "      <td>45</td>\n",
       "      <td>No</td>\n",
       "      <td>No phone service</td>\n",
       "      <td>DSL</td>\n",
       "      <td>Yes</td>\n",
       "      <td>...</td>\n",
       "      <td>Yes</td>\n",
       "      <td>Yes</td>\n",
       "      <td>No</td>\n",
       "      <td>No</td>\n",
       "      <td>One year</td>\n",
       "      <td>No</td>\n",
       "      <td>Bank transfer (automatic)</td>\n",
       "      <td>42.30</td>\n",
       "      <td>1840.75</td>\n",
       "      <td>No</td>\n",
       "    </tr>\n",
       "    <tr>\n",
       "      <th>4</th>\n",
       "      <td>9237-HQITU</td>\n",
       "      <td>Female</td>\n",
       "      <td>0</td>\n",
       "      <td>No</td>\n",
       "      <td>No</td>\n",
       "      <td>2</td>\n",
       "      <td>Yes</td>\n",
       "      <td>No</td>\n",
       "      <td>Fiber optic</td>\n",
       "      <td>No</td>\n",
       "      <td>...</td>\n",
       "      <td>No</td>\n",
       "      <td>No</td>\n",
       "      <td>No</td>\n",
       "      <td>No</td>\n",
       "      <td>Month-to-month</td>\n",
       "      <td>Yes</td>\n",
       "      <td>Electronic check</td>\n",
       "      <td>70.70</td>\n",
       "      <td>151.65</td>\n",
       "      <td>Yes</td>\n",
       "    </tr>\n",
       "    <tr>\n",
       "      <th>...</th>\n",
       "      <td>...</td>\n",
       "      <td>...</td>\n",
       "      <td>...</td>\n",
       "      <td>...</td>\n",
       "      <td>...</td>\n",
       "      <td>...</td>\n",
       "      <td>...</td>\n",
       "      <td>...</td>\n",
       "      <td>...</td>\n",
       "      <td>...</td>\n",
       "      <td>...</td>\n",
       "      <td>...</td>\n",
       "      <td>...</td>\n",
       "      <td>...</td>\n",
       "      <td>...</td>\n",
       "      <td>...</td>\n",
       "      <td>...</td>\n",
       "      <td>...</td>\n",
       "      <td>...</td>\n",
       "      <td>...</td>\n",
       "      <td>...</td>\n",
       "    </tr>\n",
       "    <tr>\n",
       "      <th>7038</th>\n",
       "      <td>6840-RESVB</td>\n",
       "      <td>Male</td>\n",
       "      <td>0</td>\n",
       "      <td>Yes</td>\n",
       "      <td>Yes</td>\n",
       "      <td>24</td>\n",
       "      <td>Yes</td>\n",
       "      <td>Yes</td>\n",
       "      <td>DSL</td>\n",
       "      <td>Yes</td>\n",
       "      <td>...</td>\n",
       "      <td>Yes</td>\n",
       "      <td>Yes</td>\n",
       "      <td>Yes</td>\n",
       "      <td>Yes</td>\n",
       "      <td>One year</td>\n",
       "      <td>Yes</td>\n",
       "      <td>Mailed check</td>\n",
       "      <td>84.80</td>\n",
       "      <td>1990.5</td>\n",
       "      <td>No</td>\n",
       "    </tr>\n",
       "    <tr>\n",
       "      <th>7039</th>\n",
       "      <td>2234-XADUH</td>\n",
       "      <td>Female</td>\n",
       "      <td>0</td>\n",
       "      <td>Yes</td>\n",
       "      <td>Yes</td>\n",
       "      <td>72</td>\n",
       "      <td>Yes</td>\n",
       "      <td>Yes</td>\n",
       "      <td>Fiber optic</td>\n",
       "      <td>No</td>\n",
       "      <td>...</td>\n",
       "      <td>Yes</td>\n",
       "      <td>No</td>\n",
       "      <td>Yes</td>\n",
       "      <td>Yes</td>\n",
       "      <td>One year</td>\n",
       "      <td>Yes</td>\n",
       "      <td>Credit card (automatic)</td>\n",
       "      <td>103.20</td>\n",
       "      <td>7362.9</td>\n",
       "      <td>No</td>\n",
       "    </tr>\n",
       "    <tr>\n",
       "      <th>7040</th>\n",
       "      <td>4801-JZAZL</td>\n",
       "      <td>Female</td>\n",
       "      <td>0</td>\n",
       "      <td>Yes</td>\n",
       "      <td>Yes</td>\n",
       "      <td>11</td>\n",
       "      <td>No</td>\n",
       "      <td>No phone service</td>\n",
       "      <td>DSL</td>\n",
       "      <td>Yes</td>\n",
       "      <td>...</td>\n",
       "      <td>No</td>\n",
       "      <td>No</td>\n",
       "      <td>No</td>\n",
       "      <td>No</td>\n",
       "      <td>Month-to-month</td>\n",
       "      <td>Yes</td>\n",
       "      <td>Electronic check</td>\n",
       "      <td>29.60</td>\n",
       "      <td>346.45</td>\n",
       "      <td>No</td>\n",
       "    </tr>\n",
       "    <tr>\n",
       "      <th>7041</th>\n",
       "      <td>8361-LTMKD</td>\n",
       "      <td>Male</td>\n",
       "      <td>1</td>\n",
       "      <td>Yes</td>\n",
       "      <td>No</td>\n",
       "      <td>4</td>\n",
       "      <td>Yes</td>\n",
       "      <td>Yes</td>\n",
       "      <td>Fiber optic</td>\n",
       "      <td>No</td>\n",
       "      <td>...</td>\n",
       "      <td>No</td>\n",
       "      <td>No</td>\n",
       "      <td>No</td>\n",
       "      <td>No</td>\n",
       "      <td>Month-to-month</td>\n",
       "      <td>Yes</td>\n",
       "      <td>Mailed check</td>\n",
       "      <td>74.40</td>\n",
       "      <td>306.6</td>\n",
       "      <td>Yes</td>\n",
       "    </tr>\n",
       "    <tr>\n",
       "      <th>7042</th>\n",
       "      <td>3186-AJIEK</td>\n",
       "      <td>Male</td>\n",
       "      <td>0</td>\n",
       "      <td>No</td>\n",
       "      <td>No</td>\n",
       "      <td>66</td>\n",
       "      <td>Yes</td>\n",
       "      <td>No</td>\n",
       "      <td>Fiber optic</td>\n",
       "      <td>Yes</td>\n",
       "      <td>...</td>\n",
       "      <td>Yes</td>\n",
       "      <td>Yes</td>\n",
       "      <td>Yes</td>\n",
       "      <td>Yes</td>\n",
       "      <td>Two year</td>\n",
       "      <td>Yes</td>\n",
       "      <td>Bank transfer (automatic)</td>\n",
       "      <td>105.65</td>\n",
       "      <td>6844.5</td>\n",
       "      <td>No</td>\n",
       "    </tr>\n",
       "  </tbody>\n",
       "</table>\n",
       "<p>7043 rows × 21 columns</p>\n",
       "</div>"
      ],
      "text/plain": [
       "      customerID  gender  SeniorCitizen Partner Dependents  tenure  \\\n",
       "0     7590-VHVEG  Female              0     Yes         No       1   \n",
       "1     5575-GNVDE    Male              0      No         No      34   \n",
       "2     3668-QPYBK    Male              0      No         No       2   \n",
       "3     7795-CFOCW    Male              0      No         No      45   \n",
       "4     9237-HQITU  Female              0      No         No       2   \n",
       "...          ...     ...            ...     ...        ...     ...   \n",
       "7038  6840-RESVB    Male              0     Yes        Yes      24   \n",
       "7039  2234-XADUH  Female              0     Yes        Yes      72   \n",
       "7040  4801-JZAZL  Female              0     Yes        Yes      11   \n",
       "7041  8361-LTMKD    Male              1     Yes         No       4   \n",
       "7042  3186-AJIEK    Male              0      No         No      66   \n",
       "\n",
       "     PhoneService     MultipleLines InternetService OnlineSecurity  ...  \\\n",
       "0              No  No phone service             DSL             No  ...   \n",
       "1             Yes                No             DSL            Yes  ...   \n",
       "2             Yes                No             DSL            Yes  ...   \n",
       "3              No  No phone service             DSL            Yes  ...   \n",
       "4             Yes                No     Fiber optic             No  ...   \n",
       "...           ...               ...             ...            ...  ...   \n",
       "7038          Yes               Yes             DSL            Yes  ...   \n",
       "7039          Yes               Yes     Fiber optic             No  ...   \n",
       "7040           No  No phone service             DSL            Yes  ...   \n",
       "7041          Yes               Yes     Fiber optic             No  ...   \n",
       "7042          Yes                No     Fiber optic            Yes  ...   \n",
       "\n",
       "     DeviceProtection TechSupport StreamingTV StreamingMovies        Contract  \\\n",
       "0                  No          No          No              No  Month-to-month   \n",
       "1                 Yes          No          No              No        One year   \n",
       "2                  No          No          No              No  Month-to-month   \n",
       "3                 Yes         Yes          No              No        One year   \n",
       "4                  No          No          No              No  Month-to-month   \n",
       "...               ...         ...         ...             ...             ...   \n",
       "7038              Yes         Yes         Yes             Yes        One year   \n",
       "7039              Yes          No         Yes             Yes        One year   \n",
       "7040               No          No          No              No  Month-to-month   \n",
       "7041               No          No          No              No  Month-to-month   \n",
       "7042              Yes         Yes         Yes             Yes        Two year   \n",
       "\n",
       "     PaperlessBilling              PaymentMethod MonthlyCharges  TotalCharges  \\\n",
       "0                 Yes           Electronic check          29.85         29.85   \n",
       "1                  No               Mailed check          56.95        1889.5   \n",
       "2                 Yes               Mailed check          53.85        108.15   \n",
       "3                  No  Bank transfer (automatic)          42.30       1840.75   \n",
       "4                 Yes           Electronic check          70.70        151.65   \n",
       "...               ...                        ...            ...           ...   \n",
       "7038              Yes               Mailed check          84.80        1990.5   \n",
       "7039              Yes    Credit card (automatic)         103.20        7362.9   \n",
       "7040              Yes           Electronic check          29.60        346.45   \n",
       "7041              Yes               Mailed check          74.40         306.6   \n",
       "7042              Yes  Bank transfer (automatic)         105.65        6844.5   \n",
       "\n",
       "     Churn  \n",
       "0       No  \n",
       "1       No  \n",
       "2      Yes  \n",
       "3       No  \n",
       "4      Yes  \n",
       "...    ...  \n",
       "7038    No  \n",
       "7039    No  \n",
       "7040    No  \n",
       "7041   Yes  \n",
       "7042    No  \n",
       "\n",
       "[7043 rows x 21 columns]"
      ]
     },
     "execution_count": 4,
     "metadata": {},
     "output_type": "execute_result"
    }
   ],
   "source": [
    "data = pd.read_csv(\"customer_churn.csv\")\n",
    "data"
   ]
  },
  {
   "cell_type": "markdown",
   "id": "83af3b01",
   "metadata": {},
   "source": [
    "## 2. We will try to predict variable Churn using a logistic regression on variables tenure, SeniorCitizen, MonthlyCharges."
   ]
  },
  {
   "cell_type": "code",
   "execution_count": 6,
   "id": "48b4563b",
   "metadata": {},
   "outputs": [
    {
     "name": "stdout",
     "output_type": "stream",
     "text": [
      "No     5174\n",
      "Yes    1869\n",
      "Name: Churn, dtype: int64\n"
     ]
    }
   ],
   "source": [
    "print(data[\"Churn\"].value_counts())"
   ]
  },
  {
   "cell_type": "code",
   "execution_count": 7,
   "id": "558ce279",
   "metadata": {},
   "outputs": [
    {
     "name": "stdout",
     "output_type": "stream",
     "text": [
      "1     613\n",
      "72    362\n",
      "2     238\n",
      "3     200\n",
      "4     176\n",
      "     ... \n",
      "28     57\n",
      "39     56\n",
      "44     51\n",
      "36     50\n",
      "0      11\n",
      "Name: tenure, Length: 73, dtype: int64\n"
     ]
    }
   ],
   "source": [
    "print(data[\"tenure\"].value_counts())"
   ]
  },
  {
   "cell_type": "code",
   "execution_count": 8,
   "id": "ca1ff949",
   "metadata": {},
   "outputs": [
    {
     "name": "stdout",
     "output_type": "stream",
     "text": [
      "0    5901\n",
      "1    1142\n",
      "Name: SeniorCitizen, dtype: int64\n"
     ]
    }
   ],
   "source": [
    "print(data[\"SeniorCitizen\"].value_counts())"
   ]
  },
  {
   "cell_type": "code",
   "execution_count": 9,
   "id": "76b97053",
   "metadata": {},
   "outputs": [
    {
     "name": "stdout",
     "output_type": "stream",
     "text": [
      "20.05     61\n",
      "19.85     45\n",
      "19.95     44\n",
      "19.90     44\n",
      "20.00     43\n",
      "          ..\n",
      "23.65      1\n",
      "114.70     1\n",
      "43.65      1\n",
      "87.80      1\n",
      "78.70      1\n",
      "Name: MonthlyCharges, Length: 1585, dtype: int64\n"
     ]
    }
   ],
   "source": [
    "print(data[\"MonthlyCharges\"].value_counts())"
   ]
  },
  {
   "cell_type": "code",
   "execution_count": 10,
   "id": "64767bf5",
   "metadata": {},
   "outputs": [
    {
     "name": "stdout",
     "output_type": "stream",
     "text": [
      "customerID          0\n",
      "gender              0\n",
      "SeniorCitizen       0\n",
      "Partner             0\n",
      "Dependents          0\n",
      "tenure              0\n",
      "PhoneService        0\n",
      "MultipleLines       0\n",
      "InternetService     0\n",
      "OnlineSecurity      0\n",
      "OnlineBackup        0\n",
      "DeviceProtection    0\n",
      "TechSupport         0\n",
      "StreamingTV         0\n",
      "StreamingMovies     0\n",
      "Contract            0\n",
      "PaperlessBilling    0\n",
      "PaymentMethod       0\n",
      "MonthlyCharges      0\n",
      "TotalCharges        0\n",
      "Churn               0\n",
      "dtype: int64\n"
     ]
    }
   ],
   "source": [
    "print(data.isna().sum())"
   ]
  },
  {
   "cell_type": "markdown",
   "id": "23c2152f",
   "metadata": {},
   "source": [
    "## 3. Extract the target variable."
   ]
  },
  {
   "cell_type": "code",
   "execution_count": 12,
   "id": "1f05ec0f",
   "metadata": {},
   "outputs": [],
   "source": [
    "y = data[\"Churn\"]"
   ]
  },
  {
   "cell_type": "markdown",
   "id": "ef9e8858",
   "metadata": {},
   "source": [
    "## 4. Extract the independent variables and scale them."
   ]
  },
  {
   "cell_type": "code",
   "execution_count": 45,
   "id": "1b544cc2",
   "metadata": {},
   "outputs": [
    {
     "data": {
      "text/html": [
       "<div>\n",
       "<style scoped>\n",
       "    .dataframe tbody tr th:only-of-type {\n",
       "        vertical-align: middle;\n",
       "    }\n",
       "\n",
       "    .dataframe tbody tr th {\n",
       "        vertical-align: top;\n",
       "    }\n",
       "\n",
       "    .dataframe thead th {\n",
       "        text-align: right;\n",
       "    }\n",
       "</style>\n",
       "<table border=\"1\" class=\"dataframe\">\n",
       "  <thead>\n",
       "    <tr style=\"text-align: right;\">\n",
       "      <th></th>\n",
       "      <th>tenure</th>\n",
       "      <th>SeniorCitizen</th>\n",
       "      <th>MonthlyCharges</th>\n",
       "    </tr>\n",
       "  </thead>\n",
       "  <tbody>\n",
       "    <tr>\n",
       "      <th>0</th>\n",
       "      <td>1</td>\n",
       "      <td>0</td>\n",
       "      <td>29.85</td>\n",
       "    </tr>\n",
       "    <tr>\n",
       "      <th>1</th>\n",
       "      <td>34</td>\n",
       "      <td>0</td>\n",
       "      <td>56.95</td>\n",
       "    </tr>\n",
       "    <tr>\n",
       "      <th>2</th>\n",
       "      <td>2</td>\n",
       "      <td>0</td>\n",
       "      <td>53.85</td>\n",
       "    </tr>\n",
       "    <tr>\n",
       "      <th>3</th>\n",
       "      <td>45</td>\n",
       "      <td>0</td>\n",
       "      <td>42.30</td>\n",
       "    </tr>\n",
       "    <tr>\n",
       "      <th>4</th>\n",
       "      <td>2</td>\n",
       "      <td>0</td>\n",
       "      <td>70.70</td>\n",
       "    </tr>\n",
       "    <tr>\n",
       "      <th>...</th>\n",
       "      <td>...</td>\n",
       "      <td>...</td>\n",
       "      <td>...</td>\n",
       "    </tr>\n",
       "    <tr>\n",
       "      <th>7038</th>\n",
       "      <td>24</td>\n",
       "      <td>0</td>\n",
       "      <td>84.80</td>\n",
       "    </tr>\n",
       "    <tr>\n",
       "      <th>7039</th>\n",
       "      <td>72</td>\n",
       "      <td>0</td>\n",
       "      <td>103.20</td>\n",
       "    </tr>\n",
       "    <tr>\n",
       "      <th>7040</th>\n",
       "      <td>11</td>\n",
       "      <td>0</td>\n",
       "      <td>29.60</td>\n",
       "    </tr>\n",
       "    <tr>\n",
       "      <th>7041</th>\n",
       "      <td>4</td>\n",
       "      <td>1</td>\n",
       "      <td>74.40</td>\n",
       "    </tr>\n",
       "    <tr>\n",
       "      <th>7042</th>\n",
       "      <td>66</td>\n",
       "      <td>0</td>\n",
       "      <td>105.65</td>\n",
       "    </tr>\n",
       "  </tbody>\n",
       "</table>\n",
       "<p>7043 rows × 3 columns</p>\n",
       "</div>"
      ],
      "text/plain": [
       "      tenure  SeniorCitizen  MonthlyCharges\n",
       "0          1              0           29.85\n",
       "1         34              0           56.95\n",
       "2          2              0           53.85\n",
       "3         45              0           42.30\n",
       "4          2              0           70.70\n",
       "...      ...            ...             ...\n",
       "7038      24              0           84.80\n",
       "7039      72              0          103.20\n",
       "7040      11              0           29.60\n",
       "7041       4              1           74.40\n",
       "7042      66              0          105.65\n",
       "\n",
       "[7043 rows x 3 columns]"
      ]
     },
     "execution_count": 45,
     "metadata": {},
     "output_type": "execute_result"
    }
   ],
   "source": [
    "x = data[[\"tenure\", \"SeniorCitizen\", \"MonthlyCharges\"]]\n",
    "x\n"
   ]
  },
  {
   "cell_type": "code",
   "execution_count": 46,
   "id": "f03dc5b2",
   "metadata": {},
   "outputs": [],
   "source": [
    "x_train, x_test, y_train, y_test = train_test_split(x, y, test_size = 0.25, random_state = 25)\n"
   ]
  },
  {
   "cell_type": "code",
   "execution_count": 47,
   "id": "34588dbb",
   "metadata": {},
   "outputs": [
    {
     "data": {
      "text/plain": [
       "<AxesSubplot:>"
      ]
     },
     "execution_count": 47,
     "metadata": {},
     "output_type": "execute_result"
    },
    {
     "data": {
      "image/png": "[encoded data removed]",
      "text/plain": [
       "<Figure size 432x288 with 2 Axes>"
      ]
     },
     "metadata": {
      "needs_background": "light"
     },
     "output_type": "display_data"
    }
   ],
   "source": [
    "sns.heatmap(x_train.corr(), annot = True)"
   ]
  },
  {
   "cell_type": "code",
   "execution_count": 56,
   "id": "6cd73de1",
   "metadata": {},
   "outputs": [
    {
     "data": {
      "text/plain": [
       "<AxesSubplot:xlabel='tenure', ylabel='Count'>"
      ]
     },
     "execution_count": 56,
     "metadata": {},
     "output_type": "execute_result"
    },
    {
     "data": {
      "image/png": "[encoded data removed]",
      "text/plain": [
       "<Figure size 432x288 with 1 Axes>"
      ]
     },
     "metadata": {
      "needs_background": "light"
     },
     "output_type": "display_data"
    }
   ],
   "source": [
    "fig, axs = plt.subplots(1,1)\n",
    "sns.histplot(x_train[\"tenure\"])\n",
    "#sns.histplot(x_train[\"SeniorCitizen\"], ax= axs[1])\n",
    "#sns.histplot(x_train[\"MonthlyCharges\"], ax= axs[2])"
   ]
  },
  {
   "cell_type": "code",
   "execution_count": 57,
   "id": "516099c8",
   "metadata": {},
   "outputs": [
    {
     "data": {
      "text/plain": [
       "<AxesSubplot:xlabel='SeniorCitizen', ylabel='Count'>"
      ]
     },
     "execution_count": 57,
     "metadata": {},
     "output_type": "execute_result"
    },
    {
     "data": {
      "image/png": "[encoded data removed]",
      "text/plain": [
       "<Figure size 432x288 with 1 Axes>"
      ]
     },
     "metadata": {
      "needs_background": "light"
     },
     "output_type": "display_data"
    }
   ],
   "source": [
    "fig, axs = plt.subplots(1,1)\n",
    "sns.histplot(x_train[\"SeniorCitizen\"])"
   ]
  },
  {
   "cell_type": "code",
   "execution_count": 58,
   "id": "64076a53",
   "metadata": {},
   "outputs": [
    {
     "data": {
      "text/plain": [
       "<AxesSubplot:xlabel='MonthlyCharges', ylabel='Count'>"
      ]
     },
     "execution_count": 58,
     "metadata": {},
     "output_type": "execute_result"
    },
    {
     "data": {
      "image/png": "[encoded data removed]",
      "text/plain": [
       "<Figure size 432x288 with 1 Axes>"
      ]
     },
     "metadata": {
      "needs_background": "light"
     },
     "output_type": "display_data"
    }
   ],
   "source": [
    "fig, axs = plt.subplots(1,1)\n",
    "sns.histplot(x_train[\"MonthlyCharges\"])"
   ]
  },
  {
   "cell_type": "code",
   "execution_count": 59,
   "id": "537bab55",
   "metadata": {},
   "outputs": [
    {
     "data": {
      "text/html": [
       "<div>\n",
       "<style scoped>\n",
       "    .dataframe tbody tr th:only-of-type {\n",
       "        vertical-align: middle;\n",
       "    }\n",
       "\n",
       "    .dataframe tbody tr th {\n",
       "        vertical-align: top;\n",
       "    }\n",
       "\n",
       "    .dataframe thead th {\n",
       "        text-align: right;\n",
       "    }\n",
       "</style>\n",
       "<table border=\"1\" class=\"dataframe\">\n",
       "  <thead>\n",
       "    <tr style=\"text-align: right;\">\n",
       "      <th></th>\n",
       "      <th>tenure</th>\n",
       "      <th>SeniorCitizen</th>\n",
       "      <th>MonthlyCharges</th>\n",
       "    </tr>\n",
       "  </thead>\n",
       "  <tbody>\n",
       "    <tr>\n",
       "      <th>5802</th>\n",
       "      <td>0.392457</td>\n",
       "      <td>-0.438242</td>\n",
       "      <td>-0.507295</td>\n",
       "    </tr>\n",
       "    <tr>\n",
       "      <th>168</th>\n",
       "      <td>1.043359</td>\n",
       "      <td>2.281845</td>\n",
       "      <td>-0.648306</td>\n",
       "    </tr>\n",
       "    <tr>\n",
       "      <th>4426</th>\n",
       "      <td>-0.665258</td>\n",
       "      <td>-0.438242</td>\n",
       "      <td>0.486418</td>\n",
       "    </tr>\n",
       "    <tr>\n",
       "      <th>1645</th>\n",
       "      <td>0.392457</td>\n",
       "      <td>2.281845</td>\n",
       "      <td>0.657290</td>\n",
       "    </tr>\n",
       "    <tr>\n",
       "      <th>2082</th>\n",
       "      <td>-0.461851</td>\n",
       "      <td>-0.438242</td>\n",
       "      <td>-1.331795</td>\n",
       "    </tr>\n",
       "    <tr>\n",
       "      <th>...</th>\n",
       "      <td>...</td>\n",
       "      <td>...</td>\n",
       "      <td>...</td>\n",
       "    </tr>\n",
       "    <tr>\n",
       "      <th>2934</th>\n",
       "      <td>-0.827983</td>\n",
       "      <td>-0.438242</td>\n",
       "      <td>-1.507644</td>\n",
       "    </tr>\n",
       "    <tr>\n",
       "      <th>2191</th>\n",
       "      <td>-1.275478</td>\n",
       "      <td>2.281845</td>\n",
       "      <td>0.877931</td>\n",
       "    </tr>\n",
       "    <tr>\n",
       "      <th>6618</th>\n",
       "      <td>-0.258444</td>\n",
       "      <td>-0.438242</td>\n",
       "      <td>0.723648</td>\n",
       "    </tr>\n",
       "    <tr>\n",
       "      <th>318</th>\n",
       "      <td>-0.339807</td>\n",
       "      <td>2.281845</td>\n",
       "      <td>0.939312</td>\n",
       "    </tr>\n",
       "    <tr>\n",
       "      <th>5252</th>\n",
       "      <td>1.572216</td>\n",
       "      <td>2.281845</td>\n",
       "      <td>1.415431</td>\n",
       "    </tr>\n",
       "  </tbody>\n",
       "</table>\n",
       "<p>5282 rows × 3 columns</p>\n",
       "</div>"
      ],
      "text/plain": [
       "        tenure  SeniorCitizen  MonthlyCharges\n",
       "5802  0.392457      -0.438242       -0.507295\n",
       "168   1.043359       2.281845       -0.648306\n",
       "4426 -0.665258      -0.438242        0.486418\n",
       "1645  0.392457       2.281845        0.657290\n",
       "2082 -0.461851      -0.438242       -1.331795\n",
       "...        ...            ...             ...\n",
       "2934 -0.827983      -0.438242       -1.507644\n",
       "2191 -1.275478       2.281845        0.877931\n",
       "6618 -0.258444      -0.438242        0.723648\n",
       "318  -0.339807       2.281845        0.939312\n",
       "5252  1.572216       2.281845        1.415431\n",
       "\n",
       "[5282 rows x 3 columns]"
      ]
     },
     "execution_count": 59,
     "metadata": {},
     "output_type": "execute_result"
    }
   ],
   "source": [
    "sc = StandardScaler().fit(x_train)\n",
    "\n",
    "x_train_sc = sc.transform(x_train)\n",
    "x_train_sc = pd.DataFrame(x_train_sc, index = x_train.index, columns = x_train.columns)\n",
    "\n",
    "x_train_sc"
   ]
  },
  {
   "cell_type": "code",
   "execution_count": 60,
   "id": "8e57cb61",
   "metadata": {},
   "outputs": [
    {
     "data": {
      "text/html": [
       "<div>\n",
       "<style scoped>\n",
       "    .dataframe tbody tr th:only-of-type {\n",
       "        vertical-align: middle;\n",
       "    }\n",
       "\n",
       "    .dataframe tbody tr th {\n",
       "        vertical-align: top;\n",
       "    }\n",
       "\n",
       "    .dataframe thead th {\n",
       "        text-align: right;\n",
       "    }\n",
       "</style>\n",
       "<table border=\"1\" class=\"dataframe\">\n",
       "  <thead>\n",
       "    <tr style=\"text-align: right;\">\n",
       "      <th></th>\n",
       "      <th>tenure</th>\n",
       "      <th>SeniorCitizen</th>\n",
       "      <th>MonthlyCharges</th>\n",
       "    </tr>\n",
       "  </thead>\n",
       "  <tbody>\n",
       "    <tr>\n",
       "      <th>4864</th>\n",
       "      <td>1.572216</td>\n",
       "      <td>-0.438242</td>\n",
       "      <td>1.602893</td>\n",
       "    </tr>\n",
       "    <tr>\n",
       "      <th>5033</th>\n",
       "      <td>-1.275478</td>\n",
       "      <td>-0.438242</td>\n",
       "      <td>-1.507644</td>\n",
       "    </tr>\n",
       "    <tr>\n",
       "      <th>2671</th>\n",
       "      <td>1.246766</td>\n",
       "      <td>-0.438242</td>\n",
       "      <td>1.345755</td>\n",
       "    </tr>\n",
       "    <tr>\n",
       "      <th>3919</th>\n",
       "      <td>-1.072071</td>\n",
       "      <td>-0.438242</td>\n",
       "      <td>0.952584</td>\n",
       "    </tr>\n",
       "    <tr>\n",
       "      <th>3630</th>\n",
       "      <td>-1.153434</td>\n",
       "      <td>-0.438242</td>\n",
       "      <td>-1.456216</td>\n",
       "    </tr>\n",
       "    <tr>\n",
       "      <th>...</th>\n",
       "      <td>...</td>\n",
       "      <td>...</td>\n",
       "      <td>...</td>\n",
       "    </tr>\n",
       "    <tr>\n",
       "      <th>5145</th>\n",
       "      <td>1.368810</td>\n",
       "      <td>-0.438242</td>\n",
       "      <td>-1.298616</td>\n",
       "    </tr>\n",
       "    <tr>\n",
       "      <th>5302</th>\n",
       "      <td>-0.909346</td>\n",
       "      <td>-0.438242</td>\n",
       "      <td>0.021911</td>\n",
       "    </tr>\n",
       "    <tr>\n",
       "      <th>7027</th>\n",
       "      <td>-0.787302</td>\n",
       "      <td>-0.438242</td>\n",
       "      <td>0.282367</td>\n",
       "    </tr>\n",
       "    <tr>\n",
       "      <th>3402</th>\n",
       "      <td>-1.153434</td>\n",
       "      <td>-0.438242</td>\n",
       "      <td>0.799960</td>\n",
       "    </tr>\n",
       "    <tr>\n",
       "      <th>6108</th>\n",
       "      <td>-0.583895</td>\n",
       "      <td>-0.438242</td>\n",
       "      <td>-1.316864</td>\n",
       "    </tr>\n",
       "  </tbody>\n",
       "</table>\n",
       "<p>1761 rows × 3 columns</p>\n",
       "</div>"
      ],
      "text/plain": [
       "        tenure  SeniorCitizen  MonthlyCharges\n",
       "4864  1.572216      -0.438242        1.602893\n",
       "5033 -1.275478      -0.438242       -1.507644\n",
       "2671  1.246766      -0.438242        1.345755\n",
       "3919 -1.072071      -0.438242        0.952584\n",
       "3630 -1.153434      -0.438242       -1.456216\n",
       "...        ...            ...             ...\n",
       "5145  1.368810      -0.438242       -1.298616\n",
       "5302 -0.909346      -0.438242        0.021911\n",
       "7027 -0.787302      -0.438242        0.282367\n",
       "3402 -1.153434      -0.438242        0.799960\n",
       "6108 -0.583895      -0.438242       -1.316864\n",
       "\n",
       "[1761 rows x 3 columns]"
      ]
     },
     "execution_count": 60,
     "metadata": {},
     "output_type": "execute_result"
    }
   ],
   "source": [
    "x_test_sc = sc.transform(x_test)\n",
    "x_test_sc = pd.DataFrame(x_test_sc, index = x_test.index, columns = x_test.columns)\n",
    "\n",
    "x_test_sc"
   ]
  },
  {
   "cell_type": "markdown",
   "id": "5b6ec8ce",
   "metadata": {},
   "source": [
    "## 5. Build the logistic regression model."
   ]
  },
  {
   "cell_type": "code",
   "execution_count": 61,
   "id": "e358b6cf",
   "metadata": {},
   "outputs": [],
   "source": [
    "lr1 = LogisticRegression(random_state = 25, solver = \"lbfgs\", multi_class = \"ovr\").fit(x_train_sc, y_train)\n",
    "y_train_pred1 = lr1.predict(x_train_sc)\n",
    "y_test_pred1 = lr1.predict(x_test_sc)"
   ]
  },
  {
   "cell_type": "markdown",
   "id": "23d7088b",
   "metadata": {},
   "source": [
    "## 6. Evaluate the model."
   ]
  },
  {
   "cell_type": "code",
   "execution_count": 69,
   "id": "958aa5b6",
   "metadata": {},
   "outputs": [
    {
     "name": "stdout",
     "output_type": "stream",
     "text": [
      "The Accuracy in the TRAIN set is: 0.793\n",
      "The Accuracy in the TEST set is: 0.788\n",
      " \n",
      "The Precision in the TRAIN set is: 0.823\n",
      "The Precision in the TEST set is: 0.813\n",
      " \n",
      "The Recall in the TRAIN set is: 0.916\n",
      "The Recall in the TEST set is: 0.920\n",
      " \n",
      "The F1 for the TRAIN set is 0.87\n",
      "The F1 for the TEST set is 0.86\n",
      " \n",
      "The Kappa for the TRAIN set is 0.41\n",
      "The Kappa for the TEST set is 0.40\n"
     ]
    }
   ],
   "source": [
    "print(\"The Accuracy in the TRAIN set is: {:.3f}\".format(accuracy_score(y_train, y_train_pred1)))\n",
    "print(\"The Accuracy in the TEST set is: {:.3f}\".format(accuracy_score(y_test, y_test_pred1)))\n",
    "print(\" \")\n",
    "print(\"The Precision in the TRAIN set is: {:.3f}\".format(precision_score(y_train, y_train_pred1, pos_label=\"No\")))\n",
    "print(\"The Precision in the TEST set is: {:.3f}\".format(precision_score(y_test, y_test_pred1, pos_label=\"No\")))\n",
    "print(\" \")\n",
    "print(\"The Recall in the TRAIN set is: {:.3f}\".format(recall_score(y_train, y_train_pred1, pos_label=\"No\")))\n",
    "print(\"The Recall in the TEST set is: {:.3f}\".format(recall_score(y_test,  y_test_pred1, pos_label=\"No\")))\n",
    "print(\" \")\n",
    "print(\"The F1 for the TRAIN set is {:.2f}\".format(f1_score(y_train,y_train_pred1, pos_label=\"No\")))\n",
    "print(\"The F1 for the TEST set is {:.2f}\".format(f1_score(y_test,y_test_pred1, pos_label=\"No\")))\n",
    "print(\" \")\n",
    "print(\"The Kappa for the TRAIN set is {:.2f}\".format(cohen_kappa_score(y_train, y_train_pred1)))\n",
    "print(\"The Kappa for the TEST set is {:.2f}\".format(cohen_kappa_score(y_test, y_test_pred1)))"
   ]
  },
  {
   "cell_type": "code",
   "execution_count": 91,
   "id": "fbc37bd5",
   "metadata": {},
   "outputs": [
    {
     "data": {
      "text/plain": [
       "<bound method ConfusionMatrixDisplay.plot of <sklearn.metrics._plot.confusion_matrix.ConfusionMatrixDisplay object at 0x7fef33f7be80>>"
      ]
     },
     "execution_count": 91,
     "metadata": {},
     "output_type": "execute_result"
    }
   ],
   "source": [
    "cm_train= confusion_matrix(y_train, y_train_pred1)\n",
    "disp = ConfusionMatrixDisplay(cm_train,display_labels=lr1.classes_);\n",
    "\n",
    "\n",
    "disp.plot"
   ]
  },
  {
   "cell_type": "code",
   "execution_count": 83,
   "id": "be1d89b4",
   "metadata": {},
   "outputs": [
    {
     "data": {
      "text/plain": [
       "<sklearn.metrics._plot.confusion_matrix.ConfusionMatrixDisplay at 0x7fef54856700>"
      ]
     },
     "execution_count": 83,
     "metadata": {},
     "output_type": "execute_result"
    },
    {
     "data": {
      "image/png": "[encoded data removed]",
      "text/plain": [
       "<Figure size 432x288 with 2 Axes>"
      ]
     },
     "metadata": {
      "needs_background": "light"
     },
     "output_type": "display_data"
    }
   ],
   "source": [
    "cm_test = confusion_matrix(y_test, y_test_pred1)\n",
    "disp = ConfusionMatrixDisplay(cm_test,display_labels=lr1.classes_);\n",
    "\n",
    "disp.plot()"
   ]
  },
  {
   "cell_type": "markdown",
   "id": "dec4a22b",
   "metadata": {},
   "source": [
    "## 7. Even a simple model will give us more than 70% accuracy. Why?\n",
    "\n",
    "Accuracy is higher than 70% due to class imbalance."
   ]
  },
  {
   "cell_type": "markdown",
   "id": "42549848",
   "metadata": {},
   "source": [
    "## 8. Synthetic Minority Oversampling TEchnique (SMOTE)"
   ]
  },
  {
   "cell_type": "code",
   "execution_count": 72,
   "id": "2a1de829",
   "metadata": {},
   "outputs": [],
   "source": [
    "sm = SMOTE(random_state = 25, k_neighbors =4)\n",
    "\n",
    "x_train_sc_smote, y_train_smote = sm.fit_resample(x_train_sc, y_train)"
   ]
  },
  {
   "cell_type": "code",
   "execution_count": 73,
   "id": "72223281",
   "metadata": {},
   "outputs": [],
   "source": [
    "lr2 = LogisticRegression(random_state = 25, solver = \"lbfgs\", multi_class = \"ovr\").fit(x_train_sc_smote, y_train_smote)\n",
    "\n",
    "y_train_pred2 = lr2.predict(x_train_sc_smote)\n",
    "y_test_pred2 = lr2.predict(x_test_sc)"
   ]
  },
  {
   "cell_type": "code",
   "execution_count": 81,
   "id": "01cff86e",
   "metadata": {},
   "outputs": [
    {
     "name": "stdout",
     "output_type": "stream",
     "text": [
      "The Accuracy in the TRAIN set is: 0.731\n",
      "The Accuracy in the TEST set is: 0.731\n",
      "\n",
      "The Precision in the TRAIN set is: 0.735\n",
      "The Precision in the TEST set is: 0.881\n",
      "\n",
      "The Recall in the TRAIN set is: 0.722\n",
      "The Recall in the TEST set is: 0.730\n",
      "\n",
      "The F1 for the TRAIN set is 0.73\n",
      "The F1 for the TEST set is 0.80\n",
      "\n",
      "The Kappa for the TRAIN set is 0.46\n",
      "The Kappa for the TEST set is 0.41\n"
     ]
    }
   ],
   "source": [
    "print(\"The Accuracy in the TRAIN set is: {:.3f}\".format(accuracy_score(y_train_smote, y_train_pred2)))\n",
    "print(\"The Accuracy in the TEST set is: {:.3f}\".format(accuracy_score(y_test, y_test_pred2)))\n",
    "print(\"\")\n",
    "print(\"The Precision in the TRAIN set is: {:.3f}\".format(precision_score(y_train_smote, y_train_pred2, pos_label=\"No\")))\n",
    "print(\"The Precision in the TEST set is: {:.3f}\".format(precision_score(y_test, y_test_pred2, pos_label=\"No\")))\n",
    "print(\"\")\n",
    "print(\"The Recall in the TRAIN set is: {:.3f}\".format(recall_score(y_train_smote, y_train_pred2, pos_label=\"No\")))\n",
    "print(\"The Recall in the TEST set is: {:.3f}\".format(recall_score(y_test,  y_test_pred2, pos_label=\"No\")))\n",
    "print(\"\")\n",
    "print(\"The F1 for the TRAIN set is {:.2f}\".format(f1_score(y_train_smote,y_train_pred2, pos_label=\"No\")))\n",
    "print(\"The F1 for the TEST set is {:.2f}\".format(f1_score(y_test,y_test_pred2, pos_label=\"No\")))\n",
    "print(\"\")\n",
    "print(\"The Kappa for the TRAIN set is {:.2f}\".format(cohen_kappa_score(y_train_smote, y_train_pred2)))\n",
    "print(\"The Kappa for the TEST set is {:.2f}\".format(cohen_kappa_score(y_test, y_test_pred2)))"
   ]
  },
  {
   "cell_type": "code",
   "execution_count": 78,
   "id": "97f299f6",
   "metadata": {},
   "outputs": [
    {
     "data": {
      "text/plain": [
       "<sklearn.metrics._plot.confusion_matrix.ConfusionMatrixDisplay at 0x7fef34b9b220>"
      ]
     },
     "execution_count": 78,
     "metadata": {},
     "output_type": "execute_result"
    },
    {
     "data": {
      "image/png": "[encoded data removed]",
      "text/plain": [
       "<Figure size 432x288 with 2 Axes>"
      ]
     },
     "metadata": {
      "needs_background": "light"
     },
     "output_type": "display_data"
    }
   ],
   "source": [
    "cm_train2 = confusion_matrix(y_train_smote, y_train_pred2)\n",
    "disp = ConfusionMatrixDisplay(cm_train2,display_labels=lr2.classes_);\n",
    "\n",
    "disp.plot()"
   ]
  },
  {
   "cell_type": "code",
   "execution_count": 79,
   "id": "f3cc9411",
   "metadata": {},
   "outputs": [
    {
     "data": {
      "text/plain": [
       "<sklearn.metrics._plot.confusion_matrix.ConfusionMatrixDisplay at 0x7fef34c0a790>"
      ]
     },
     "execution_count": 79,
     "metadata": {},
     "output_type": "execute_result"
    },
    {
     "data": {
      "image/png": "[encoded data removed]",
      "text/plain": [
       "<Figure size 432x288 with 2 Axes>"
      ]
     },
     "metadata": {
      "needs_background": "light"
     },
     "output_type": "display_data"
    }
   ],
   "source": [
    "cm_test2 = confusion_matrix(y_test, y_test_pred2)\n",
    "disp = ConfusionMatrixDisplay(cm_test2,display_labels=lr2.classes_);\n",
    "\n",
    "disp.plot()"
   ]
  },
  {
   "cell_type": "markdown",
   "id": "40a34fc6",
   "metadata": {},
   "source": [
    "## Comparison"
   ]
  },
  {
   "cell_type": "code",
   "execution_count": 86,
   "id": "3b6b4ae4",
   "metadata": {},
   "outputs": [
    {
     "name": "stdout",
     "output_type": "stream",
     "text": [
      "The Accuracy in the FIRST TEST set is: 0.788\n",
      "The Accuracy in the SECOND TEST set is: 0.731\n",
      "\n",
      "The Precision in the FIRST TEST  set is: 0.813\n",
      "The Precision in the SECOND TEST  set is: 0.881\n",
      "\n",
      "The Recall in the FIRST TEST set is: 0.920\n",
      "The Recall in the SECOND TEST set is: 0.730\n",
      "\n",
      "The F1 for the FIRST TEST set is 0.86\n",
      "The F1 for the SECOND TEST set is 0.80\n",
      "\n",
      "The Kappa for the FIRST TEST set is 0.40\n",
      "The Kappa for the SECOND TEST set is 0.41\n"
     ]
    }
   ],
   "source": [
    "#Comparing Accuracy: before and after SMOTE\n",
    "print(\"The Accuracy in the FIRST TEST set is: {:.3f}\".format(accuracy_score(y_test, y_test_pred1)))\n",
    "print(\"The Accuracy in the SECOND TEST set is: {:.3f}\".format(accuracy_score(y_test, y_test_pred2)))\n",
    "print(\"\")\n",
    "#Comparing Precision: before and after SMOTE\n",
    "print(\"The Precision in the FIRST TEST  set is: {:.3f}\".format(precision_score(y_test, y_test_pred1, pos_label=\"No\")))\n",
    "print(\"The Precision in the SECOND TEST  set is: {:.3f}\".format(precision_score(y_test, y_test_pred2, pos_label=\"No\")))\n",
    "print(\"\")\n",
    "#Comparing Recall: before and after SMOTE\n",
    "print(\"The Recall in the FIRST TEST set is: {:.3f}\".format(recall_score(y_test,  y_test_pred1, pos_label=\"No\")))\n",
    "print(\"The Recall in the SECOND TEST set is: {:.3f}\".format(recall_score(y_test,  y_test_pred2, pos_label=\"No\")))\n",
    "print(\"\")\n",
    "#Comparing F1: before and after SMOTE\n",
    "print(\"The F1 for the FIRST TEST set is {:.2f}\".format(f1_score(y_test,y_test_pred1, pos_label=\"No\")))\n",
    "print(\"The F1 for the SECOND TEST set is {:.2f}\".format(f1_score(y_test,y_test_pred2, pos_label=\"No\")))\n",
    "print(\"\")\n",
    "#Comparing Kappa: before and after SMOTE\n",
    "print(\"The Kappa for the FIRST TEST set is {:.2f}\".format(cohen_kappa_score(y_test, y_test_pred1)))\n",
    "print(\"The Kappa for the SECOND TEST set is {:.2f}\".format(cohen_kappa_score(y_test, y_test_pred2)))"
   ]
  },
  {
   "cell_type": "code",
   "execution_count": null,
   "id": "afa7ebfa",
   "metadata": {},
   "outputs": [],
   "source": []
  }
 ],
 "metadata": {
  "kernelspec": {
   "display_name": "Python 3 (ipykernel)",
   "language": "python",
   "name": "python3"
  },
  "language_info": {
   "codemirror_mode": {
    "name": "ipython",
    "version": 3
   },
   "file_extension": ".py",
   "mimetype": "text/x-python",
   "name": "python",
   "nbconvert_exporter": "python",
   "pygments_lexer": "ipython3",
   "version": "3.9.12"
  }
 },
 "nbformat": 4,
 "nbformat_minor": 5
}
